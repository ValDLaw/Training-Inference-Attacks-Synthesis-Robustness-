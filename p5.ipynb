{
 "cells": [
  {
   "cell_type": "code",
   "execution_count": 5,
   "metadata": {},
   "outputs": [
    {
     "name": "stderr",
     "output_type": "stream",
     "text": [
      "2023-11-28 17:05:22.067783: E tensorflow/compiler/xla/stream_executor/cuda/cuda_dnn.cc:9342] Unable to register cuDNN factory: Attempting to register factory for plugin cuDNN when one has already been registered\n",
      "2023-11-28 17:05:22.067847: E tensorflow/compiler/xla/stream_executor/cuda/cuda_fft.cc:609] Unable to register cuFFT factory: Attempting to register factory for plugin cuFFT when one has already been registered\n",
      "2023-11-28 17:05:22.067929: E tensorflow/compiler/xla/stream_executor/cuda/cuda_blas.cc:1518] Unable to register cuBLAS factory: Attempting to register factory for plugin cuBLAS when one has already been registered\n",
      "2023-11-28 17:05:22.085322: I tensorflow/core/platform/cpu_feature_guard.cc:182] This TensorFlow binary is optimized to use available CPU instructions in performance-critical operations.\n",
      "To enable the following instructions: AVX2 FMA, in other operations, rebuild TensorFlow with the appropriate compiler flags.\n"
     ]
    }
   ],
   "source": [
    "import numpy as np\n",
    "import matplotlib.pyplot as plt\n",
    "from tensorflow.keras.models import load_model\n",
    "from tensorflow.keras.preprocessing import image\n",
    "from tensorflow.keras.applications.vgg16 import preprocess_input\n",
    "from tensorflow.keras.applications.vgg16 import VGG16\n"
   ]
  },
  {
   "cell_type": "code",
   "execution_count": 6,
   "metadata": {},
   "outputs": [],
   "source": [
    "import torch\n",
    "import torch.nn as nn\n",
    "import torchvision.transforms as transforms\n",
    "from torch.utils.data import DataLoader\n",
    "from torchvision.datasets import ImageFolder\n",
    "import matplotlib.pyplot as plt\n"
   ]
  },
  {
   "cell_type": "code",
   "execution_count": 8,
   "metadata": {},
   "outputs": [],
   "source": [
    "dataset_path = './img/'\n",
    "batch_size = 8 \n",
    "transform = transforms.Compose([\n",
    "    #transforms.Resize((80, 80)),\n",
    "    transforms.ToTensor(),\n",
    "])\n",
    "\n",
    "train_dataset = ImageFolder(root='./data_split/train', transform=transform)\n",
    "val_dataset = ImageFolder(root='./data_split/test', transform=transform)\n",
    "\n",
    "train_dataloader = DataLoader(train_dataset, batch_size=batch_size, shuffle=True)\n",
    "val_dataloader = DataLoader(train_dataset, batch_size=batch_size, shuffle=True)"
   ]
  },
  {
   "cell_type": "code",
   "execution_count": 9,
   "metadata": {},
   "outputs": [],
   "source": [
    "class CustomFCNetwork(nn.Module):\n",
    "    def __init__(self):\n",
    "        super(CustomFCNetwork, self).__init__()\n",
    "        self.flatten = nn.Flatten()\n",
    "        self.fc1 = nn.Linear(19200, 128)  # Update fc1 input size to match the expected size\n",
    "        self.relu1 = nn.ReLU()\n",
    "        self.fc2 = nn.Linear(128, 60)\n",
    "        self.relu2 = nn.ReLU()\n",
    "        self.fc3 = nn.Linear(60, 10)\n",
    "\n",
    "    def forward(self, x):\n",
    "        x = self.flatten(x)\n",
    "        x = self.fc1(x)\n",
    "        x = self.relu1(x)\n",
    "        x = self.fc2(x)\n",
    "        x = self.relu2(x)\n",
    "        x = self.fc3(x)\n",
    "        return x\n",
    "\n",
    "class LeNet5V1(nn.Module):\n",
    "    def __init__(self):\n",
    "        super().__init__()\n",
    "        self.feature = nn.Sequential(\n",
    "            # 1\n",
    "            nn.Conv2d(in_channels=3,    # cantidad de canales RGB == 3\n",
    "                      out_channels=6, \n",
    "                      kernel_size=5, stride=1, padding=2),\n",
    "            nn.ReLU(),\n",
    "            nn.AvgPool2d(kernel_size=2, stride=2),\n",
    "\n",
    "            # 2\n",
    "            nn.Conv2d(in_channels=6, \n",
    "                      out_channels=16,\n",
    "                      kernel_size=5, stride=1),\n",
    "            nn.ReLU(),\n",
    "            nn.AvgPool2d(kernel_size=2, stride=2),\n",
    "        )\n",
    "\n",
    "        self.classifier = nn.Sequential(\n",
    "            nn.Flatten(),\n",
    "            nn.Linear(in_features=16*22*22, out_features=256),\n",
    "            nn.ReLU(),\n",
    "            nn.Linear(in_features=256, out_features=128),\n",
    "            nn.ReLU(),\n",
    "            nn.Linear(in_features=128, out_features=10),\n",
    "            # nn.Softmax(dim=1)\n",
    "        )\n",
    "\n",
    "    def forward(self, x):\n",
    "        return self.classifier(self.feature(x))"
   ]
  },
  {
   "cell_type": "code",
   "execution_count": 10,
   "metadata": {},
   "outputs": [],
   "source": [
    "try:\n",
    "    modelCNN = LeNet5V1()\n",
    "    model_name = \"LeNet5_final\"\n",
    "    modelCNN.load_state_dict(torch.load(f\"models/best_model_{model_name}.pth\", map_location=torch.device('cpu')))\n",
    "    modelCNN.eval()  # Set model to evaluation mode after loading\n",
    "except Exception as e:\n",
    "    print(f\"Error: {e}\")\n"
   ]
  },
  {
   "cell_type": "code",
   "execution_count": 11,
   "metadata": {},
   "outputs": [],
   "source": [
    "try:\n",
    "    modelFCN = CustomFCNetwork()\n",
    "    model_name = \"FCN_final\"\n",
    "    modelFCN.load_state_dict(torch.load(f\"models/best_model_{model_name}.pth\", map_location=torch.device('cpu')))\n",
    "    modelFCN.eval()  # Set model to evaluation mode after loading\n",
    "except Exception as e:\n",
    "    print(f\"Error: {e}\")\n"
   ]
  },
  {
   "cell_type": "code",
   "execution_count": 23,
   "metadata": {},
   "outputs": [],
   "source": [
    "import os\n",
    "import torch\n",
    "import numpy as np\n",
    "from torchvision import transforms\n",
    "from torchvision.datasets import ImageFolder\n",
    "from torch.utils.data import DataLoader\n",
    "import matplotlib.pyplot as plt\n",
    "from torchvision.utils import save_image\n"
   ]
  },
  {
   "cell_type": "code",
   "execution_count": null,
   "metadata": {},
   "outputs": [],
   "source": [
    "path = 'data_split/test/'\n",
    "\n",
    "fcn_model = load_model(\"./models/\" + f'adversarial_FCN.pth', CustomFCNetwork())\n"
   ]
  },
  {
   "cell_type": "code",
   "execution_count": 26,
   "metadata": {},
   "outputs": [
    {
     "ename": "TypeError",
     "evalue": "'LeNet5V1' object is not a mapping",
     "output_type": "error",
     "traceback": [
      "\u001b[0;31m---------------------------------------------------------------------------\u001b[0m",
      "\u001b[0;31mTypeError\u001b[0m                                 Traceback (most recent call last)",
      "\u001b[1;32m/home/enzoc/Escritorio/lab4ML/Training-Inference-Attacks-Synthesis-Robustness-/p5.ipynb Celda 9\u001b[0m line \u001b[0;36m3\n\u001b[1;32m      <a href='vscode-notebook-cell:/home/enzoc/Escritorio/lab4ML/Training-Inference-Attacks-Synthesis-Robustness-/p5.ipynb#X11sZmlsZQ%3D%3D?line=0'>1</a>\u001b[0m path \u001b[39m=\u001b[39m \u001b[39m'\u001b[39m\u001b[39mdata_split/test/\u001b[39m\u001b[39m'\u001b[39m\n\u001b[0;32m----> <a href='vscode-notebook-cell:/home/enzoc/Escritorio/lab4ML/Training-Inference-Attacks-Synthesis-Robustness-/p5.ipynb#X11sZmlsZQ%3D%3D?line=2'>3</a>\u001b[0m cnn_model \u001b[39m=\u001b[39m load_model(\u001b[39m\"\u001b[39;49m\u001b[39m./models/\u001b[39;49m\u001b[39m\"\u001b[39;49m \u001b[39m+\u001b[39;49m \u001b[39mf\u001b[39;49m\u001b[39m'\u001b[39;49m\u001b[39madversarial_LeNet5.pth\u001b[39;49m\u001b[39m'\u001b[39;49m, LeNet5V1())\n",
      "File \u001b[0;32m~/.local/lib/python3.10/site-packages/keras/src/saving/saving_api.py:262\u001b[0m, in \u001b[0;36mload_model\u001b[0;34m(filepath, custom_objects, compile, safe_mode, **kwargs)\u001b[0m\n\u001b[1;32m    254\u001b[0m     \u001b[39mreturn\u001b[39;00m saving_lib\u001b[39m.\u001b[39mload_model(\n\u001b[1;32m    255\u001b[0m         filepath,\n\u001b[1;32m    256\u001b[0m         custom_objects\u001b[39m=\u001b[39mcustom_objects,\n\u001b[1;32m    257\u001b[0m         \u001b[39mcompile\u001b[39m\u001b[39m=\u001b[39m\u001b[39mcompile\u001b[39m,\n\u001b[1;32m    258\u001b[0m         safe_mode\u001b[39m=\u001b[39msafe_mode,\n\u001b[1;32m    259\u001b[0m     )\n\u001b[1;32m    261\u001b[0m \u001b[39m# Legacy case.\u001b[39;00m\n\u001b[0;32m--> 262\u001b[0m \u001b[39mreturn\u001b[39;00m legacy_sm_saving_lib\u001b[39m.\u001b[39;49mload_model(\n\u001b[1;32m    263\u001b[0m     filepath, custom_objects\u001b[39m=\u001b[39;49mcustom_objects, \u001b[39mcompile\u001b[39;49m\u001b[39m=\u001b[39;49m\u001b[39mcompile\u001b[39;49m, \u001b[39m*\u001b[39;49m\u001b[39m*\u001b[39;49mkwargs\n\u001b[1;32m    264\u001b[0m )\n",
      "File \u001b[0;32m~/.local/lib/python3.10/site-packages/keras/src/utils/traceback_utils.py:70\u001b[0m, in \u001b[0;36mfilter_traceback.<locals>.error_handler\u001b[0;34m(*args, **kwargs)\u001b[0m\n\u001b[1;32m     67\u001b[0m     filtered_tb \u001b[39m=\u001b[39m _process_traceback_frames(e\u001b[39m.\u001b[39m__traceback__)\n\u001b[1;32m     68\u001b[0m     \u001b[39m# To get the full stack trace, call:\u001b[39;00m\n\u001b[1;32m     69\u001b[0m     \u001b[39m# `tf.debugging.disable_traceback_filtering()`\u001b[39;00m\n\u001b[0;32m---> 70\u001b[0m     \u001b[39mraise\u001b[39;00m e\u001b[39m.\u001b[39mwith_traceback(filtered_tb) \u001b[39mfrom\u001b[39;00m \u001b[39mNone\u001b[39;00m\n\u001b[1;32m     71\u001b[0m \u001b[39mfinally\u001b[39;00m:\n\u001b[1;32m     72\u001b[0m     \u001b[39mdel\u001b[39;00m filtered_tb\n",
      "File \u001b[0;32m~/.local/lib/python3.10/site-packages/keras/src/saving/legacy/save.py:225\u001b[0m, in \u001b[0;36mload_model\u001b[0;34m(filepath, custom_objects, compile, options)\u001b[0m\n\u001b[1;32m    223\u001b[0m tlco \u001b[39m=\u001b[39m object_registration\u001b[39m.\u001b[39m_THREAD_LOCAL_CUSTOM_OBJECTS\u001b[39m.\u001b[39m\u001b[39m__dict__\u001b[39m\n\u001b[1;32m    224\u001b[0m gco \u001b[39m=\u001b[39m object_registration\u001b[39m.\u001b[39m_GLOBAL_CUSTOM_OBJECTS\n\u001b[0;32m--> 225\u001b[0m custom_objects \u001b[39m=\u001b[39m {\u001b[39m*\u001b[39m\u001b[39m*\u001b[39mcustom_objects, \u001b[39m*\u001b[39m\u001b[39m*\u001b[39mtlco, \u001b[39m*\u001b[39m\u001b[39m*\u001b[39mgco}\n\u001b[1;32m    226\u001b[0m \u001b[39mwith\u001b[39;00m object_registration\u001b[39m.\u001b[39mCustomObjectScope(custom_objects):\n\u001b[1;32m    227\u001b[0m     \u001b[39mwith\u001b[39;00m keras_option_scope(\n\u001b[1;32m    228\u001b[0m         save_traces\u001b[39m=\u001b[39m\u001b[39mFalse\u001b[39;00m, in_tf_saved_model_scope\u001b[39m=\u001b[39m\u001b[39mTrue\u001b[39;00m\n\u001b[1;32m    229\u001b[0m     ):\n",
      "\u001b[0;31mTypeError\u001b[0m: 'LeNet5V1' object is not a mapping"
     ]
    }
   ],
   "source": [
    "path = 'data_split/test/'\n",
    "\n",
    "cnn_model = load_model(\"./models/\" + f'adversarial_LeNet5.pth', LeNet5V1())\n"
   ]
  },
  {
   "cell_type": "code",
   "execution_count": 1,
   "metadata": {},
   "outputs": [
    {
     "ename": "NameError",
     "evalue": "name 'train_dataset' is not defined",
     "output_type": "error",
     "traceback": [
      "\u001b[0;31m---------------------------------------------------------------------------\u001b[0m",
      "\u001b[0;31mNameError\u001b[0m                                 Traceback (most recent call last)",
      "\u001b[1;32m/home/enzoc/Escritorio/lab4ML/Training-Inference-Attacks-Synthesis-Robustness-/p5.ipynb Celda 8\u001b[0m line \u001b[0;36m5\n\u001b[1;32m     <a href='vscode-notebook-cell:/home/enzoc/Escritorio/lab4ML/Training-Inference-Attacks-Synthesis-Robustness-/p5.ipynb#W2sZmlsZQ%3D%3D?line=48'>49</a>\u001b[0m     plt\u001b[39m.\u001b[39mshow()\n\u001b[1;32m     <a href='vscode-notebook-cell:/home/enzoc/Escritorio/lab4ML/Training-Inference-Attacks-Synthesis-Robustness-/p5.ipynb#W2sZmlsZQ%3D%3D?line=50'>51</a>\u001b[0m \u001b[39m# Obtener imágenes originales de cada clase\u001b[39;00m\n\u001b[0;32m---> <a href='vscode-notebook-cell:/home/enzoc/Escritorio/lab4ML/Training-Inference-Attacks-Synthesis-Robustness-/p5.ipynb#W2sZmlsZQ%3D%3D?line=51'>52</a>\u001b[0m original_images \u001b[39m=\u001b[39m [train_dataset[i][\u001b[39m0\u001b[39m] \u001b[39mfor\u001b[39;00m i \u001b[39min\u001b[39;00m \u001b[39mrange\u001b[39m(num_classes)]\n\u001b[1;32m     <a href='vscode-notebook-cell:/home/enzoc/Escritorio/lab4ML/Training-Inference-Attacks-Synthesis-Robustness-/p5.ipynb#W2sZmlsZQ%3D%3D?line=53'>54</a>\u001b[0m \u001b[39m# Sintetizar estímulos coincidentes para cada red (CNN y FCN)\u001b[39;00m\n\u001b[1;32m     <a href='vscode-notebook-cell:/home/enzoc/Escritorio/lab4ML/Training-Inference-Attacks-Synthesis-Robustness-/p5.ipynb#W2sZmlsZQ%3D%3D?line=54'>55</a>\u001b[0m synthesized_cnn_images \u001b[39m=\u001b[39m []\n",
      "\u001b[1;32m/home/enzoc/Escritorio/lab4ML/Training-Inference-Attacks-Synthesis-Robustness-/p5.ipynb Celda 8\u001b[0m line \u001b[0;36m5\n\u001b[1;32m     <a href='vscode-notebook-cell:/home/enzoc/Escritorio/lab4ML/Training-Inference-Attacks-Synthesis-Robustness-/p5.ipynb#W2sZmlsZQ%3D%3D?line=48'>49</a>\u001b[0m     plt\u001b[39m.\u001b[39mshow()\n\u001b[1;32m     <a href='vscode-notebook-cell:/home/enzoc/Escritorio/lab4ML/Training-Inference-Attacks-Synthesis-Robustness-/p5.ipynb#W2sZmlsZQ%3D%3D?line=50'>51</a>\u001b[0m \u001b[39m# Obtener imágenes originales de cada clase\u001b[39;00m\n\u001b[0;32m---> <a href='vscode-notebook-cell:/home/enzoc/Escritorio/lab4ML/Training-Inference-Attacks-Synthesis-Robustness-/p5.ipynb#W2sZmlsZQ%3D%3D?line=51'>52</a>\u001b[0m original_images \u001b[39m=\u001b[39m [train_dataset[i][\u001b[39m0\u001b[39m] \u001b[39mfor\u001b[39;00m i \u001b[39min\u001b[39;00m \u001b[39mrange\u001b[39m(num_classes)]\n\u001b[1;32m     <a href='vscode-notebook-cell:/home/enzoc/Escritorio/lab4ML/Training-Inference-Attacks-Synthesis-Robustness-/p5.ipynb#W2sZmlsZQ%3D%3D?line=53'>54</a>\u001b[0m \u001b[39m# Sintetizar estímulos coincidentes para cada red (CNN y FCN)\u001b[39;00m\n\u001b[1;32m     <a href='vscode-notebook-cell:/home/enzoc/Escritorio/lab4ML/Training-Inference-Attacks-Synthesis-Robustness-/p5.ipynb#W2sZmlsZQ%3D%3D?line=54'>55</a>\u001b[0m synthesized_cnn_images \u001b[39m=\u001b[39m []\n",
      "\u001b[0;31mNameError\u001b[0m: name 'train_dataset' is not defined"
     ]
    }
   ],
   "source": [
    "\n",
    "num_classes = 5\n",
    "\n",
    "def synthesize_stimuli(model, target_activation, original_image, epsilon=1e-2, num_iterations=100):\n",
    "\n",
    "    model.eval()\n",
    "    original_image = original_image.clone().detach().requires_grad_(True)\n",
    "    \n",
    "    optimizer = torch.optim.SGD([original_image], lr=epsilon)\n",
    "\n",
    "    for _ in range(num_iterations):\n",
    "        optimizer.zero_grad()\n",
    "        \n",
    "        # Forward pass\n",
    "        output = model(original_image)\n",
    "        target_layer_activation = model.get_penultimate_activation(original_image)\n",
    "        \n",
    "        # Loss function: Diferencia cuadrática entre activaciones\n",
    "        loss = nn.MSELoss()(target_layer_activation, target_activation)\n",
    "        \n",
    "        # Backward pass\n",
    "        loss.backward()\n",
    "        \n",
    "        # Update image\n",
    "        optimizer.step()\n",
    "\n",
    "    return original_image.detach()\n",
    "\n",
    "# Función para generar los gráficos solicitados\n",
    "def generate_plots(original_images, synthesized_cnn_images, synthesized_fcn_images, num_classes):\n",
    "    fig, axes = plt.subplots(num_classes, 3, figsize=(10, 3 * num_classes))\n",
    "\n",
    "    for i in range(num_classes):\n",
    "        # Columna 1: Original\n",
    "        axes[i, 0].imshow(original_images[i].permute(1, 2, 0))\n",
    "        axes[i, 0].axis('off')\n",
    "        axes[i, 0].set_title(f\"Class {i + 1}\\nOriginal\")\n",
    "\n",
    "        # Columna 2: Synthesized CNN\n",
    "        axes[i, 1].imshow(synthesized_cnn_images[i].permute(1, 2, 0))\n",
    "        axes[i, 1].axis('off')\n",
    "        axes[i, 1].set_title(f\"Synthesized CNN\\nClass {i + 1}\")\n",
    "\n",
    "        # Columna 3: Synthesized Ftarget_activation_cnnCN\n",
    "        axes[i, 2].imshow(synthesized_fcn_images[i].permute(1, 2, 0))\n",
    "        axes[i, 2].axis('off')\n",
    "        axes[i, 2].set_title(f\"Synthesized FCN\\nClass {i + 1}\")\n",
    "\n",
    "    plt.tight_layout()\n",
    "    plt.show()\n",
    "\n",
    "# Obtener imágenes originales de cada clase\n",
    "original_images = [train_dataset[i][0] for i in range(num_classes)]\n",
    "\n",
    "# Sintetizar estímulos coincidentes para cada red (CNN y FCN)\n",
    "synthesized_cnn_images = []\n",
    "synthesized_fcn_images = []\n",
    "\n",
    "for i in range(num_classes):\n",
    "    target_activation_cnn = modelCNN.get_penultimate_activation(original_images[i])\n",
    "    synthesized_cnn = synthesize_stimuli(modelCNN, target_activation_cnn, original_images[i])\n",
    "    synthesized_cnn_images.append(synthesized_cnn)\n",
    "\n",
    "    target_activation_fcn = modelFCN.get_penultimate_activation(original_images[i])\n",
    "    synthesized_fcn = synthesize_stimuli(modelFCN, target_activation_fcn, original_images[i])\n",
    "    synthesized_fcn_images.append(synthesized_fcn)\n",
    "\n",
    "# Generar y mostrar los gráficos\n",
    "generate_plots(original_images, synthesized_cnn_images, synthesized_fcn_images, num_classes)"
   ]
  }
 ],
 "metadata": {
  "kernelspec": {
   "display_name": "Python 3",
   "language": "python",
   "name": "python3"
  },
  "language_info": {
   "codemirror_mode": {
    "name": "ipython",
    "version": 3
   },
   "file_extension": ".py",
   "mimetype": "text/x-python",
   "name": "python",
   "nbconvert_exporter": "python",
   "pygments_lexer": "ipython3",
   "version": "3.10.12"
  }
 },
 "nbformat": 4,
 "nbformat_minor": 2
}
